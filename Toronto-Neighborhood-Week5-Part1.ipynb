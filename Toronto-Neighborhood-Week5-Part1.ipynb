{
 "metadata": {
  "language_info": {
   "codemirror_mode": {
    "name": "ipython",
    "version": 3
   },
   "file_extension": ".py",
   "mimetype": "text/x-python",
   "name": "python",
   "nbconvert_exporter": "python",
   "pygments_lexer": "ipython3",
   "version": 3
  },
  "orig_nbformat": 2
 },
 "nbformat": 4,
 "nbformat_minor": 2,
 "cells": [
  {
   "cell_type": "markdown",
   "metadata": {},
   "source": [
    "# IBM Applied Data Science Capstone - Week 5 Final Project"
   ]
  },
  {
   "cell_type": "markdown",
   "metadata": {},
   "source": [
    "## The Battle of Neighborhoods (Week 1)"
   ]
  },
  {
   "cell_type": "markdown",
   "metadata": {},
   "source": [
    "### Coursera Capstone - Report Content\n",
    "\n",
    "*Introduction Section:*\n",
    "- Discussion of the business problem and the interested audience in this project.\n",
    "\n",
    "*Data Section:*\n",
    "- Description of the data that will be used to solve the problem and the sources.\n",
    "\n",
    "*Methodology section:*\n",
    "- Discussion and description of exploratory data analysis carried out, any inferential statistical testing performed, and if any machine learnings were used establishing the strategy and purposes.\n",
    "\n",
    "*Results section:*\n",
    "- Discussion of the results.\n",
    "\n",
    "*Discussion section:*\n",
    "- Elaboration and discussion on any observations noted and any recommendations suggested based on the results.\n",
    "\n",
    "*Conclusion section:*\n",
    "- Report Conclusion."
   ]
  },
  {
   "cell_type": "code",
   "execution_count": null,
   "metadata": {},
   "outputs": [],
   "source": [
    "# A description of the problem and a discussion of the background. (15 marks)"
   ]
  },
  {
   "cell_type": "markdown",
   "metadata": {},
   "source": [
    "### 1. Introduction Section\n",
    "\n",
    "#### Scenario\n",
    "\n",
    "A Canadian company, specialized in vegetarian products in small towns, wants to make its brand better known to its audience. To do this, the company wants to open a restaurant in Toronto near universities. In addition, the company wants to identify existing restaurants within a distance up of 3000 meters from each university to establish partnership and thus the become possible sale points for its products.\n",
    "\n",
    "#### Business problem\n",
    "\n",
    "Identify existing vegetarian restaurants in Toronto near universities. Also identify potential restaurants to establish partnership to sell their products."
   ]
  },
  {
   "cell_type": "code",
   "execution_count": null,
   "metadata": {},
   "outputs": [],
   "source": [
    "# A description of the data and how it will be used to solve the problem. (15 marks)"
   ]
  },
  {
   "cell_type": "markdown",
   "metadata": {},
   "source": [
    "### 2. Data Section\n",
    "\n",
    "#### Description of data\n",
    "\n",
    "- List of boroughs and neighborhoods of Toronto with their coordinates (latitude and longitude);\n",
    "- Venues of each boroughs and neighborhoods of Toronto (that can be clustered).\n",
    "\n",
    "#### How the data will be used to solve the problem\n",
    "\n",
    "We will use the Foursquare API to map existing vegetarian restaurants in Toronto and existing restaurants near universities with a distance up to 3000 meters. These datas will be clustered to facilitate the decision making to choose the best neighborhood to open the restaurant and which neighborhoods the company will establish partnership of the restaurants."
   ]
  },
  {
   "cell_type": "code",
   "execution_count": null,
   "metadata": {},
   "outputs": [],
   "source": []
  }
 ]
}