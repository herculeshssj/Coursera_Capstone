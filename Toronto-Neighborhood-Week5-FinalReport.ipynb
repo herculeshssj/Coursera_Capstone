{
 "metadata": {
  "language_info": {
   "codemirror_mode": {
    "name": "ipython",
    "version": 3
   },
   "file_extension": ".py",
   "mimetype": "text/x-python",
   "name": "python",
   "nbconvert_exporter": "python",
   "pygments_lexer": "ipython3",
   "version": 3
  },
  "orig_nbformat": 2
 },
 "nbformat": 4,
 "nbformat_minor": 2,
 "cells": [
  {
   "cell_type": "markdown",
   "metadata": {},
   "source": [
    "# The Battle of Neighborhoods\n",
    "## Toronto neighborhood - Vegan restaurants\n",
    "\n",
    "**Author**: Hércules Sant'Ana da Silva José\n",
    "\n",
    "_Report created in July/2020_"
   ]
  },
  {
   "cell_type": "markdown",
   "metadata": {},
   "source": [
    "## Summary\n",
    "\n",
    "**Introduction Section:**\n",
    "- Introduction where we discuss the business problem about vegan restaurants in Toronto and who would be interested in this project.\n",
    "\n",
    "**Data Section:**\n",
    "- Data where we describe the data that will be used to solve the problem and the source of the data.\n",
    "\n",
    "**Methodology section:**\n",
    "- Methodology section which represents the main component of this report where we discuss and describe any exploratory data analysis that we did, any inferential statistical testing that we performed, if any, and what machine learnings were used and why.\n",
    "\n",
    "**Results section:**\n",
    "- Results section where we discuss the results.\n",
    "\n",
    "**Discussion section:**\n",
    "- Discussion section where we discuss any observations you noted and any recommendations to our audience based on the results.\n",
    "\n",
    "**Conclusion section:**\n",
    "- Conclusion section where we conclude the report."
   ]
  },
  {
   "cell_type": "markdown",
   "metadata": {},
   "source": [
    "## 1. Introduction\n",
    "\n",
    "### 1.1. Scenario\n",
    "\n",
    "Recent studies suggest that about 8% of the entire world’s population is vegan. That’s quite a few people all over the globe who are committed to living a plant-based lifestyle. Whether you’re interested in eating cleaner, don’t want to exploit animals or simply enjoy how you feel as a vegan, great vegan restaurants in the world can sometimes be hard to find.\n",
    "\n",
    "However, that’s beginning to change. You’ll find that major cities all over the world are slowly but surely developing strong vegan cultures, from cafes and co-ops straight on through to some of the world’s best vegan restaurants. In short, you’ve now got more options than simply ordering the only salad on the menu.\n",
    "\n",
    "Toronto is one of the most ethnically and culturally diverse cities in the world. It’s not only famous for its skyline, it has several other attractions as well.Located on the shores of Lake Ontario, it has people from all across the globe. As one might expect, such a melting pot of different cultures and ethnicity from across the world is bound to result in a smorgasbord of delectable delicacies from all across the globe. No matter what kind of cuisine you like, you are bound to find great restaurants serving delicious food for you. Now, if you are vegan, you might be wondering, well all of that is good but what if I am looking for some wonderful vegan cuisine to enjoy in Toronto? Will I be able to find anything good? The answer to that is a resounding yes! The city of Toronto is packed with wonderful restaurants for Vegans, vegetarians and the curious non vegetarians. As plant based diets are becoming more and more mainstream and people are becoming aware of their benefits, vegan restaurants have popped up all over Toronto. And they aren’t just out there to milk a trend. The owners of all these restaurants believe in a plant based diet and have come up with some extremely innovative plant based dishes. \n",
    "\n",
    "### 1.2. Business problem\n",
    "\n",
    "Identify existing vegan restaurants in Toronto close to the city's top universities. Also identify possible restaurants to partner with companies that want to promote their vegan products.\n",
    "\n",
    "### 1.3. Audience\n",
    "\n",
    "Vegan audience that comes to Toronto to study and companies interested in selling and promoting vegan products."
   ]
  },
  {
   "cell_type": "markdown",
   "metadata": {},
   "source": [
    "## 2. Data"
   ]
  },
  {
   "cell_type": "markdown",
   "metadata": {},
   "source": [
    "### 2.1. Data description"
   ]
  },
  {
   "cell_type": "markdown",
   "metadata": {},
   "source": [
    "### 2.2. Data cleaning"
   ]
  },
  {
   "cell_type": "markdown",
   "metadata": {},
   "source": [
    "2. Data Section\n",
    "\n",
    "Description of data\n",
    "\n",
    "- List of boroughs and neighborhoods of Toronto with their coordinates (latitude and longitude);\n",
    "- Venues of each boroughs and neighborhoods of Toronto (that can be clustered).\n",
    "\n",
    "How the data will be used to solve the problem\n",
    "\n",
    "We will use the Foursquare API to map existing vegetarian restaurants in Toronto and existing restaurants near universities with a distance up to 3000 meters. These datas will be clustered to facilitate the decision making to choose the best neighborhood to open the restaurant and which neighborhoods the company will establish partnership of the restaurants."
   ]
  },
  {
   "cell_type": "markdown",
   "metadata": {},
   "source": [
    "## 3. Methodology"
   ]
  },
  {
   "cell_type": "markdown",
   "metadata": {},
   "source": [
    "## 4. Results"
   ]
  },
  {
   "cell_type": "markdown",
   "metadata": {},
   "source": [
    "## 5. Discussion"
   ]
  },
  {
   "cell_type": "markdown",
   "metadata": {},
   "source": [
    "## 6. Conclusion"
   ]
  },
  {
   "cell_type": "markdown",
   "metadata": {},
   "source": [
    "## 7. References"
   ]
  },
  {
   "cell_type": "markdown",
   "metadata": {},
   "source": [
    "https://bigseventravel.com/2020/02/best-vegan-restaurants-in-the-world-2020/\n",
    "\n",
    "https://wtvox.com/sustainable-living/2019-the-world-of-vegan-but-how-many-vegans-are-in-the-world/\n",
    "\n",
    "https://www.dailyhawker.ca/vegan-restaurants-in-toronto/\n"
   ]
  }
 ]
}