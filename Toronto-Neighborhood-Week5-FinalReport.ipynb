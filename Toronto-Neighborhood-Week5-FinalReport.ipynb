{
 "metadata": {
  "language_info": {
   "codemirror_mode": {
    "name": "ipython",
    "version": 3
   },
   "file_extension": ".py",
   "mimetype": "text/x-python",
   "name": "python",
   "nbconvert_exporter": "python",
   "pygments_lexer": "ipython3",
   "version": 3
  },
  "orig_nbformat": 2
 },
 "nbformat": 4,
 "nbformat_minor": 2,
 "cells": [
  {
   "cell_type": "markdown",
   "metadata": {},
   "source": [
    "# The Battle of Neighborhoods\n",
    "## Toronto neighborhood - Vegan restaurants\n",
    "\n",
    "**Author**: Hércules Sant'Ana da Silva José\n",
    "\n",
    "_Report created in July/2020_"
   ]
  },
  {
   "cell_type": "markdown",
   "metadata": {},
   "source": [
    "## Summary\n",
    "\n",
    "**Introduction Section:**\n",
    "- Introduction where we discuss the business problem about vegan restaurants in Toronto and who would be interested in this project.\n",
    "\n",
    "**Data Section:**\n",
    "- Data where we describe the data that will be used to solve the problem and the source of the data.\n",
    "\n",
    "**Methodology section:**\n",
    "- Methodology section which represents the main component of this report where we discuss and describe any exploratory data analysis that we did, any inferential statistical testing that we performed, if any, and what machine learnings were used and why.\n",
    "\n",
    "**Results section:**\n",
    "- Results section where we discuss the results.\n",
    "\n",
    "**Discussion section:**\n",
    "- Discussion section where we discuss any observations you noted and any recommendations to our audience based on the results.\n",
    "\n",
    "**Conclusion section:**\n",
    "- Conclusion section where we conclude the report."
   ]
  },
  {
   "cell_type": "markdown",
   "metadata": {},
   "source": [
    "## 1. Introduction\n",
    "\n",
    "### 1.1. Scenario\n",
    "\n",
    "Recent studies suggest that about 8% of the world's population is vegan. Few people around the world are committed to living a plant-based lifestyle. If you are interested in eating more cleanly, do not want to explore animals or simply enjoy how you feel as a vegan, it can sometimes be difficult to find great vegan restaurants in the world.\n",
    "\n",
    "However, this is starting to change. You will find that the main cities in the world are slowly but surely developing strong vegan cultures, from coffee shops and cooperatives to some of the best vegan restaurants in the world. In short, you now have more options than simply ordering the only salad on the menu.\n",
    "\n",
    "Toronto is one of the most ethnic and culturally diverse cities in the world. Located on the shores of Lake Ontario, it has people from all over the world from different cultures and ethnicities resulting in a lot of delicious delights. No matter what type of cuisine you like, you will surely find great restaurants that serve delicious food for you. Now, if you're a vegan, you may be wondering, all of this is good, but what if I'm looking for wonderful vegan cuisine to enjoy in Toronto? Will I be able to find something good? Will I as a student find good vegan restaurants near universities? Which neighborhoods can a company that specializes in vegan products promote its products? \n",
    "\n",
    "### 1.2. Business problem\n",
    "\n",
    "Identify existing vegan restaurants in Toronto close to the city's universities, and identify neighborhoods where vegan companies can partner with restaurants to promote their products.\n",
    "\n",
    "### 1.3. Audience\n",
    "\n",
    "Vegan audience that comes to Toronto to study and companies interested in selling and promoting vegan products."
   ]
  },
  {
   "cell_type": "markdown",
   "metadata": {},
   "source": [
    "## 2. Data\n",
    "\n",
    "### 2.1. Data description\n",
    "\n",
    "For this analysis, we will be required to explore, segment, and cluster the neighborhoods in the city of Toronto. However, the neighborhood data is not readily available on the internet. So, we will use a Wikipedia page that contains all the information we need to explore and cluster the neighborhoods in Toronto. The wikipedia page is available in https://en.wikipedia.org/wiki/List_of_postal_codes_of_Canada:_M.\n",
    "\n",
    "We will be required to scrape the Wikipedia page and wrangle the data, clean it, and then read it into a pandas dataframe so that it is in a structured format that we can do our analysis.\n",
    "\n",
    "We will use the Foursquare API to identify the existing vegan restaurants in Toronto and existing restaurants near universities with a distance up to 3000 meters. We will use a list of boroughs and neighborhoods of Toronto with their coordinates (latitude and longitude) to obtain the venues of each boroughs and neighborhoods of Toronto. The coordinates dataset is available in http://cocl.us/Geospatial_data."
   ]
  },
  {
   "cell_type": "markdown",
   "metadata": {},
   "source": [
    "### 2.2. Data cleaning"
   ]
  },
  {
   "cell_type": "code",
   "execution_count": null,
   "metadata": {},
   "outputs": [],
   "source": [
    "# entre com seu código aqui"
   ]
  },
  {
   "cell_type": "markdown",
   "metadata": {},
   "source": [
    "## 3. Methodology"
   ]
  },
  {
   "cell_type": "markdown",
   "metadata": {},
   "source": [
    "## 4. Results"
   ]
  },
  {
   "cell_type": "markdown",
   "metadata": {},
   "source": [
    "## 5. Discussion"
   ]
  },
  {
   "cell_type": "markdown",
   "metadata": {},
   "source": [
    "## 6. Conclusion"
   ]
  },
  {
   "cell_type": "markdown",
   "metadata": {},
   "source": [
    "## 7. References"
   ]
  },
  {
   "cell_type": "markdown",
   "metadata": {},
   "source": [
    "https://bigseventravel.com/2020/02/best-vegan-restaurants-in-the-world-2020/\n",
    "\n",
    "https://wtvox.com/sustainable-living/2019-the-world-of-vegan-but-how-many-vegans-are-in-the-world/\n",
    "\n",
    "https://www.dailyhawker.ca/vegan-restaurants-in-toronto/\n",
    "\n",
    "https://coursera.org\n"
   ]
  }
 ]
}