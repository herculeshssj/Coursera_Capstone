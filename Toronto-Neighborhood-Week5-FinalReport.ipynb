{
 "metadata": {
  "language_info": {
   "codemirror_mode": {
    "name": "ipython",
    "version": 3
   },
   "file_extension": ".py",
   "mimetype": "text/x-python",
   "name": "python",
   "nbconvert_exporter": "python",
   "pygments_lexer": "ipython3",
   "version": 3
  },
  "orig_nbformat": 2
 },
 "nbformat": 4,
 "nbformat_minor": 2,
 "cells": [
  {
   "cell_type": "markdown",
   "metadata": {},
   "source": [
    "# The Battle of Neighborhoods\n",
    "## IBM Applied Data Science Capstone - Week 5 Final Project\n",
    "\n",
    "**Author**: Hércules Sant'Ana da Silva José\n",
    "\n",
    "_Report created in July/2020_"
   ]
  },
  {
   "cell_type": "markdown",
   "metadata": {},
   "source": [
    "### Report Content\n",
    "\n",
    "*Introduction Section:*\n",
    "- Introduction where you discuss the business problem and who would be interested in this project.\n",
    "\n",
    "*Data Section:*\n",
    "- Data where you describe the data that will be used to solve the problem and the source of the data.\n",
    "\n",
    "*Methodology section:*\n",
    "- Methodology section which represents the main component of the report where you discuss and describe any exploratory data analysis that you did, any inferential statistical testing that you performed, if any, and what machine learnings were used and why.\n",
    "\n",
    "*Results section:*\n",
    "- Results section where you discuss the results.\n",
    "\n",
    "*Discussion section:*\n",
    "- Discussion section where you discuss any observations you noted and any recommendations you can make based on the results.\n",
    "\n",
    "*Conclusion section:*\n",
    "- Conclusion section where you conclude the report."
   ]
  },
  {
   "cell_type": "markdown",
   "metadata": {},
   "source": [
    "## 1. Introduction"
   ]
  },
  {
   "cell_type": "markdown",
   "metadata": {},
   "source": [
    "### 1.1. Background"
   ]
  },
  {
   "cell_type": "markdown",
   "metadata": {},
   "source": [
    "### 1.2. Business problem"
   ]
  },
  {
   "cell_type": "markdown",
   "metadata": {},
   "source": [
    "### 1.3. Audience"
   ]
  },
  {
   "cell_type": "markdown",
   "metadata": {},
   "source": [
    "## 2. Data"
   ]
  },
  {
   "cell_type": "markdown",
   "metadata": {},
   "source": [
    "### 2.1. Data description"
   ]
  },
  {
   "cell_type": "markdown",
   "metadata": {},
   "source": [
    "### 2.2. Data cleaning"
   ]
  },
  {
   "cell_type": "markdown",
   "metadata": {},
   "source": [
    "## 3. Methodology"
   ]
  },
  {
   "cell_type": "markdown",
   "metadata": {},
   "source": [
    "## 4. Results"
   ]
  },
  {
   "cell_type": "markdown",
   "metadata": {},
   "source": [
    "## 5. Discussion"
   ]
  },
  {
   "cell_type": "markdown",
   "metadata": {},
   "source": [
    "## 6. Conclusion"
   ]
  },
  {
   "cell_type": "markdown",
   "metadata": {},
   "source": [
    "## 7. References"
   ]
  },
  {
   "cell_type": "markdown",
   "metadata": {},
   "source": [
    "### 1. Introduction Section\n",
    "\n",
    "#### Scenario\n",
    "\n",
    "A Canadian company, specialized in vegetarian products in small towns, wants to make its brand better known to its audience. To do this, the company wants to open a restaurant in Toronto near universities. In addition, the company wants to identify existing restaurants within a distance up of 3000 meters from each university to establish partnership and thus the become possible sale points for its products.\n",
    "\n",
    "#### Business problem\n",
    "\n",
    "Identify existing vegetarian restaurants in Toronto near universities. Also identify potential restaurants to establish partnership to sell their products."
   ]
  },
  {
   "cell_type": "markdown",
   "metadata": {},
   "source": [
    "### 2. Data Section\n",
    "\n",
    "#### Description of data\n",
    "\n",
    "- List of boroughs and neighborhoods of Toronto with their coordinates (latitude and longitude);\n",
    "- Venues of each boroughs and neighborhoods of Toronto (that can be clustered).\n",
    "\n",
    "#### How the data will be used to solve the problem\n",
    "\n",
    "We will use the Foursquare API to map existing vegetarian restaurants in Toronto and existing restaurants near universities with a distance up to 3000 meters. These datas will be clustered to facilitate the decision making to choose the best neighborhood to open the restaurant and which neighborhoods the company will establish partnership of the restaurants."
   ]
  },
  {
   "cell_type": "code",
   "execution_count": null,
   "metadata": {},
   "outputs": [],
   "source": []
  }
 ]
}