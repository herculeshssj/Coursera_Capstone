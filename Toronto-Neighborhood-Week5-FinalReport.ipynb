{
 "cells": [
  {
   "cell_type": "markdown",
   "metadata": {},
   "source": [
    "# The Battle of Neighborhoods\n",
    "## Toronto neighborhood - Vegan restaurants\n",
    "\n",
    "**Author**: Hércules Sant'Ana da Silva José\n",
    "\n",
    "_Report created in July/2020_"
   ]
  },
  {
   "cell_type": "markdown",
   "metadata": {},
   "source": [
    "## Summary\n",
    "\n",
    "**Introduction Section:**\n",
    "- Introduction where we discuss the business problem about vegan restaurants in Toronto and who would be interested in this project.\n",
    "\n",
    "**Data Section:**\n",
    "- Data where we describe the data that will be used to solve the problem and the source of the data.\n",
    "\n",
    "**Methodology section:**\n",
    "- Methodology section which represents the main component of this report where we discuss and describe any exploratory data analysis that we did, any inferential statistical testing that we performed, if any, and what machine learnings were used and why.\n",
    "\n",
    "**Results section:**\n",
    "- Results section where we discuss the results.\n",
    "\n",
    "**Discussion section:**\n",
    "- Discussion section where we discuss any observations you noted and any recommendations to our audience based on the results.\n",
    "\n",
    "**Conclusion section:**\n",
    "- Conclusion section where we conclude the report."
   ]
  },
  {
   "cell_type": "markdown",
   "metadata": {},
   "source": [
    "## 1. Introduction\n",
    "\n",
    "### 1.1. Scenario\n",
    "\n",
    "Recent studies suggest that about 8% of the world's population is vegan. Few people around the world are committed to living a plant-based lifestyle. If you are interested in eating more cleanly, do not want to explore animals or simply enjoy how you feel as a vegan, it can sometimes be difficult to find great vegan restaurants in the world.\n",
    "\n",
    "However, this is starting to change. You will find that the main cities in the world are slowly but surely developing strong vegan cultures, from coffee shops and cooperatives to some of the best vegan restaurants in the world. In short, you now have more options than simply ordering the only salad on the menu.\n",
    "\n",
    "Toronto is one of the most ethnic and culturally diverse cities in the world. Located on the shores of Lake Ontario, it has people from all over the world from different cultures and ethnicities resulting in a lot of delicious delights. No matter what type of cuisine you like, you will surely find great restaurants that serve delicious food for you. Now, if you're a vegan, you may be wondering, all of this is good, but what if I'm looking for wonderful vegan cuisine to enjoy in Toronto? Will I be able to find something good? Will I as a student find good vegan restaurants near universities? Which neighborhoods can a company that specializes in vegan products promote its products? \n",
    "\n",
    "### 1.2. Business problem\n",
    "\n",
    "Identify existing vegan restaurants in Toronto close to the city's universities, and identify neighborhoods where vegan companies can partner with restaurants to promote their products.\n",
    "\n",
    "### 1.3. Audience\n",
    "\n",
    "Vegan audience that comes to Toronto to study and companies interested in selling and promoting vegan products."
   ]
  },
  {
   "cell_type": "markdown",
   "metadata": {},
   "source": [
    "## 2. Data\n",
    "\n",
    "### 2.1. Data description\n",
    "\n",
    "For this analysis, we will be required to explore, segment, and cluster the neighborhoods in the city of Toronto. However, the neighborhood data is not readily available on the internet. So, we will use a Wikipedia page that contains all the information we need to explore and cluster the neighborhoods in Toronto. The wikipedia page is available in https://en.wikipedia.org/wiki/List_of_postal_codes_of_Canada:_M.\n",
    "\n",
    "We will be required to scrape the Wikipedia page and wrangle the data, clean it, and then read it into a pandas dataframe so that it is in a structured format that we can do our analysis.\n",
    "\n",
    "We will use the Foursquare API to identify the existing vegan restaurants in Toronto and existing restaurants near universities with a distance up to 3000 meters. We will use a list of boroughs and neighborhoods of Toronto with their coordinates (latitude and longitude) to obtain the venues of each boroughs and neighborhoods of Toronto. The coordinates dataset is available in http://cocl.us/Geospatial_data."
   ]
  },
  {
   "cell_type": "markdown",
   "metadata": {},
   "source": [
    "### 2.2. Data cleaning"
   ]
  },
  {
   "cell_type": "markdown",
   "metadata": {},
   "source": [
    "The data cleaning process consisted of obtaining postal codes for the city of Toronto from Wikipedia page. All borough and neighborhood with value \"Not assigned\" were removed from the dataframe."
   ]
  },
  {
   "cell_type": "code",
   "execution_count": null,
   "metadata": {},
   "outputs": [],
   "source": [
    "import pandas as pd\n",
    "\n",
    "# Create dataframe by using pandas and show first 10 lines\n",
    "df = pd.read_html('https://en.wikipedia.org/wiki/List_of_postal_codes_of_Canada:_M')\n",
    "df[0].head(10)"
   ]
  },
  {
   "cell_type": "code",
   "execution_count": null,
   "metadata": {},
   "outputs": [],
   "source": [
    "# We've assigned index 0 to a new Pandas dataframe\n",
    "df_toronto = df[0]\n",
    "\n",
    "# Drop cells with a borough that is Not assigned\n",
    "index_NA = df_toronto[(df_toronto['Borough']=='Not assigned')].index\n",
    "df_toronto.drop(index_NA, inplace=True)\n",
    "df_toronto.head(10)"
   ]
  },
  {
   "cell_type": "code",
   "execution_count": null,
   "metadata": {},
   "outputs": [],
   "source": [
    "# If a cell has a borough but a Not assigned neighborhood, then the neighborhood will be the same as the borough\n",
    "df_toronto.loc[df_toronto.Neighbourhood=='Not assigned','Neighbourhood'] = df_toronto.Neighbourhood\n",
    "df_toronto.head(10)"
   ]
  },
  {
   "cell_type": "code",
   "execution_count": null,
   "metadata": {},
   "outputs": [],
   "source": [
    "df_toronto.shape"
   ]
  },
  {
   "cell_type": "markdown",
   "metadata": {},
   "source": [
    "Then we obtain the geographic data of the Toronto neighborhoods. We merged the two dataframe, creating a new one with all neighborhoods and their respective coordinates (latitude and longitude)."
   ]
  },
  {
   "cell_type": "code",
   "execution_count": null,
   "metadata": {},
   "outputs": [],
   "source": [
    "# We used Pandas to read csv file that has the geographical coordinates of each postal code to a dataframe\n",
    "df_coordinators = pd.read_csv('http://cocl.us/Geospatial_data')\n",
    "df_coordinators.head(10)"
   ]
  },
  {
   "cell_type": "code",
   "execution_count": null,
   "metadata": {},
   "outputs": [],
   "source": [
    "# We merged the df_coordinators into df_toronto.\n",
    "df_toronto = pd.merge(left=df_toronto,right=df_coordinators,on='Postal Code')\n",
    "df_toronto.head(10)"
   ]
  },
  {
   "cell_type": "code",
   "execution_count": null,
   "metadata": {
    "tags": []
   },
   "outputs": [],
   "source": [
    "# Check numbers of Boroughs and Neighborhoods in the df_toronto\n",
    "print('The dataframe has {} boroughs and {} neighborhoods.'.format(\n",
    "        len(df_toronto['Borough'].unique()),\n",
    "        df_toronto.shape[0]\n",
    "    )\n",
    ")"
   ]
  },
  {
   "cell_type": "markdown",
   "metadata": {},
   "source": [
    "We verify the geographic data collected by plotting the neighborhoods on the map."
   ]
  },
  {
   "cell_type": "code",
   "execution_count": null,
   "metadata": {},
   "outputs": [],
   "source": [
    "import folium\n",
    "\n",
    "# Toronto, Ontario\n",
    "latitude = 43.6529\n",
    "longitude = -79.3849\n",
    "\n",
    "#Create map of Toronto using Latitude and Longitude values\n",
    "map_toronto = folium.Map(location=[latitude,longitude], zoom_start=11)\n",
    "\n",
    "#add markers to map for neighborhoods\n",
    "for lat,lng, borough, neighborhood in zip(df_toronto['Latitude'],df_toronto['Longitude'],df_toronto['Borough'],df_toronto['Neighborhood']):\n",
    "    label = '{}, {}'.format(neighborhood, borough)\n",
    "    label = folium.Popup(label, parse_html=True)\n",
    "    folium.CircleMarker(\n",
    "        [lat,lng],\n",
    "        radius=5,\n",
    "        popup=label,\n",
    "        color='yellow',\n",
    "        fill=True,\n",
    "        fill_color='#3186cc',\n",
    "        fill_opacity=0.7,\n",
    "    parse_html=False).add_to(map_toronto)\n",
    "    \n",
    "map_toronto"
   ]
  },
  {
   "cell_type": "markdown",
   "metadata": {},
   "source": [
    "### 2.3. Checking Foursquare API data"
   ]
  },
  {
   "cell_type": "markdown",
   "metadata": {},
   "source": [
    "We invoke the Foursquare API to check the returned data and verify how many venues exists around the University of Toronto at a distance of up to 1000 meters."
   ]
  },
  {
   "cell_type": "code",
   "execution_count": null,
   "metadata": {},
   "outputs": [],
   "source": [
    "# University of Toronto, Toronto, Ontario\n",
    "neighborhood_latitude = 43.72149\n",
    "neighborhood_longitude = -79.37881"
   ]
  },
  {
   "cell_type": "code",
   "execution_count": null,
   "metadata": {},
   "outputs": [],
   "source": [
    "# Foursquare credencials\n",
    "CLIENT_ID = 'ERPDIEJOTYQ15D5OEZPG2BNWRX2XANXE5FS3A5XYM5ESFC4L' # your Foursquare ID\n",
    "CLIENT_SECRET = 'VTEOE3I0I5SPVKSYMAURWWRCPBVR1GWBADW4H5KOX4JU4044' # your Foursquare Secret\n",
    "VERSION = '20180604'\n",
    "\n",
    "# URL\n",
    "LIMIT=100\n",
    "radius=1000\n",
    "url='https://api.foursquare.com/v2/venues/explore?&client_id={}&client_secret={}&v={}&ll={},{}&radius={}&limit={}'.format(\n",
    "    CLIENT_ID,\n",
    "    CLIENT_SECRET,\n",
    "    VERSION,\n",
    "    neighborhood_latitude,\n",
    "    neighborhood_longitude,\n",
    "    radius,\n",
    "    LIMIT\n",
    ")"
   ]
  },
  {
   "cell_type": "code",
   "execution_count": null,
   "metadata": {},
   "outputs": [],
   "source": [
    "import requests # library to handle requests\n",
    "\n",
    "results = requests.get(url).json()"
   ]
  },
  {
   "cell_type": "code",
   "execution_count": null,
   "metadata": {},
   "outputs": [],
   "source": [
    "# function that extracts the category of the venue\n",
    "def get_category_type(row):\n",
    "    try:\n",
    "        categories_list = row['categories']\n",
    "    except:\n",
    "        categories_list = row['venue.categories']\n",
    "        \n",
    "    if len(categories_list) == 0:\n",
    "        return None\n",
    "    else:\n",
    "        return categories_list[0]['name']"
   ]
  },
  {
   "cell_type": "markdown",
   "metadata": {},
   "source": [
    "I've cleaned the returned json and I've structured it into a pandas dataframe."
   ]
  },
  {
   "cell_type": "code",
   "execution_count": null,
   "metadata": {},
   "outputs": [],
   "source": [
    "from pandas.io.json import json_normalize # tranform JSON file into a pandas dataframe\n",
    "\n",
    "venues = results['response']['groups'][0]['items']\n",
    "    \n",
    "nearby_venues = json_normalize(venues) # flatten JSON\n",
    "\n",
    "# filter columns\n",
    "filtered_columns = ['venue.name', 'venue.categories', 'venue.location.lat', 'venue.location.lng']\n",
    "nearby_venues =nearby_venues.loc[:, filtered_columns]\n",
    "\n",
    "# filter the category for each row\n",
    "nearby_venues['venue.categories'] = nearby_venues.apply(get_category_type, axis=1)\n",
    "\n",
    "# clean columns\n",
    "nearby_venues.columns = [col.split(\".\")[-1] for col in nearby_venues.columns]\n",
    "\n",
    "# First 10 rows\n",
    "nearby_venues.head(10)"
   ]
  },
  {
   "cell_type": "code",
   "execution_count": null,
   "metadata": {
    "tags": []
   },
   "outputs": [],
   "source": [
    "print('{} venues were returned by Foursquare.'.format(nearby_venues.shape[0]))"
   ]
  },
  {
   "cell_type": "markdown",
   "metadata": {},
   "source": [
    "## 3. Methodology"
   ]
  },
  {
   "cell_type": "markdown",
   "metadata": {},
   "source": [
    "We get all the venues returned by the Foursquare API and check if there is a specific venue category for vegan restaurants.\n",
    "\n",
    "We have created a function to facilitate the search for venues from the geographic data of the respective neighborhoods. We limited the search for venues to a distance of up to 500 meters."
   ]
  },
  {
   "cell_type": "code",
   "execution_count": null,
   "metadata": {},
   "outputs": [],
   "source": [
    "# Function that return the nearby venues\n",
    "# Distance: 500 meters\n",
    "def getNearbyVenues(names, latitudes, longitudes, radius=500):\n",
    "    \n",
    "    venues_list=[]\n",
    "    for name, lat, lng in zip(names, latitudes, longitudes):\n",
    "        print(name)\n",
    "            \n",
    "        # create the API request URL\n",
    "        url = 'https://api.foursquare.com/v2/venues/explore?&client_id={}&client_secret={}&v={}&ll={},{}&radius={}&limit={}'.format(\n",
    "            CLIENT_ID, \n",
    "            CLIENT_SECRET, \n",
    "            VERSION, \n",
    "            lat, \n",
    "            lng, \n",
    "            radius, \n",
    "            LIMIT)\n",
    "            \n",
    "        # make the GET request\n",
    "        results = requests.get(url).json()[\"response\"]['groups'][0]['items']\n",
    "        \n",
    "        # return only relevant information for each nearby venue\n",
    "        venues_list.append([(\n",
    "            name, \n",
    "            lat, \n",
    "            lng, \n",
    "            v['venue']['name'], \n",
    "            v['venue']['location']['lat'], \n",
    "            v['venue']['location']['lng'],  \n",
    "            v['venue']['categories'][0]['name']) for v in results])\n",
    "\n",
    "    nearby_venues = pd.DataFrame([item for venue_list in venues_list for item in venue_list])\n",
    "    nearby_venues.columns = ['Neighborhood', \n",
    "                  'Neighborhood Latitude', \n",
    "                   'Neighborhood Longitude', \n",
    "                  'Venue', \n",
    "                  'Venue Latitude', \n",
    "                  'Venue Longitude', \n",
    "                  'Venue Category']\n",
    "    \n",
    "    return(nearby_venues)"
   ]
  },
  {
   "cell_type": "code",
   "execution_count": null,
   "metadata": {
    "tags": []
   },
   "outputs": [],
   "source": [
    "df_toronto_venues = getNearbyVenues(names=df_toronto['Neighbourhood'],\n",
    "                                   latitudes=df_toronto['Latitude'],\n",
    "                                   longitudes=df_toronto['Longitude'],\n",
    "                                  )\n",
    "df_toronto_venues.head(10)"
   ]
  },
  {
   "cell_type": "markdown",
   "metadata": {},
   "source": [
    "For performance reasons, the data collected from Foursquare API was saved in a CSV file."
   ]
  },
  {
   "cell_type": "code",
   "execution_count": null,
   "metadata": {},
   "outputs": [],
   "source": [
    "# Saving the results\n",
    "df_toronto_venues.to_csv('toronto_venues.csv', index=False)\n",
    "print('Data saved!')"
   ]
  },
  {
   "cell_type": "code",
   "execution_count": null,
   "metadata": {},
   "outputs": [],
   "source": [
    "import pandas as pd\n",
    "\n",
    "# Loading the saved results\n",
    "df_toronto_venues = pd.read_csv('toronto_venues.csv')\n",
    "df_toronto_venues.head(10)"
   ]
  },
  {
   "cell_type": "code",
   "execution_count": null,
   "metadata": {
    "tags": []
   },
   "outputs": [],
   "source": [
    "print('Unique categories: {}.'.format(len(df_toronto_venues['Venue Category'].unique())))"
   ]
  },
  {
   "cell_type": "code",
   "execution_count": null,
   "metadata": {
    "tags": []
   },
   "outputs": [],
   "source": [
    "df_toronto_venues['Venue Category'].unique()"
   ]
  },
  {
   "cell_type": "markdown",
   "metadata": {},
   "source": [
    "## 4. Results"
   ]
  },
  {
   "cell_type": "markdown",
   "metadata": {},
   "source": [
    "Exploring our dataset, we identified a specific category for vegan restaurants. "
   ]
  },
  {
   "cell_type": "code",
   "execution_count": null,
   "metadata": {
    "tags": []
   },
   "outputs": [],
   "source": [
    "# Verify that it exists a venue or venue category for 'vegan'\n",
    "for i in df_toronto_venues['Venue Category'].unique():\n",
    "    if 'Vegan' in i:\n",
    "        print(i)\n",
    "        break"
   ]
  },
  {
   "cell_type": "markdown",
   "metadata": {},
   "source": [
    "When listing all venues in the category, we found that there are only 19 venues registered in this category."
   ]
  },
  {
   "cell_type": "code",
   "execution_count": null,
   "metadata": {},
   "outputs": [],
   "source": [
    "df_vegan_restaurants = df_toronto_venues[df_toronto_venues['Venue Category'] == 'Vegetarian / Vegan Restaurant']\n",
    "df_vegan_restaurants"
   ]
  },
  {
   "cell_type": "code",
   "execution_count": null,
   "metadata": {
    "tags": []
   },
   "outputs": [],
   "source": [
    "print('Vegan/Vegeratian restaurants in Toronto: {}.'.format(df_vegan_restaurants.shape[0]))"
   ]
  },
  {
   "cell_type": "markdown",
   "metadata": {},
   "source": [
    "In contrast, when we looked for 'restaurant', we found 46 venues categories."
   ]
  },
  {
   "cell_type": "code",
   "execution_count": null,
   "metadata": {
    "tags": []
   },
   "outputs": [],
   "source": [
    "# Counting all venues categories contain 'restaurant' except vegan restaurant.\n",
    "i = 0\n",
    "for item in df_toronto_venues['Venue Category'].unique():\n",
    "    if 'Restaurant' in item and not 'Vegan' in item:\n",
    "        i+=1\n",
    "print('Quantity for restaurant category: ', i)"
   ]
  },
  {
   "cell_type": "markdown",
   "metadata": {},
   "source": [
    "## 5. Discussion"
   ]
  },
  {
   "cell_type": "markdown",
   "metadata": {},
   "source": [
    "We plot the vegan restaurants on the map together with the other restaurants categories."
   ]
  },
  {
   "cell_type": "code",
   "execution_count": null,
   "metadata": {},
   "outputs": [],
   "source": [
    "df_all_restaurants = df_toronto_venues[df_toronto_venues['Venue Category'].str.contains('Restaurant')]\n",
    "\n",
    "import folium\n",
    "\n",
    "# Toronto, Ontario\n",
    "latitude = 43.6529\n",
    "longitude = -79.3849\n",
    "\n",
    "#Create map of Toronto using Latitude and Longitude values\n",
    "map_toronto = folium.Map(location=[latitude,longitude], zoom_start=11)\n",
    "\n",
    "#add markers to map for neighborhoods\n",
    "for lat, lng, category, neighborhood in zip(df_all_restaurants['Venue Latitude'], df_all_restaurants['Venue Longitude'], df_all_restaurants['Venue Category'], df_all_restaurants['Neighborhood']):\n",
    "    label = '{}, {}'.format(neighborhood, category)\n",
    "    label = folium.Popup(label, parse_html=True)\n",
    "    is_vegan = 'Vegan' in category\n",
    "    folium.CircleMarker(\n",
    "        [lat,lng],\n",
    "        radius=3,\n",
    "        popup=label,\n",
    "        color='green' if is_vegan else 'red',\n",
    "        fill=True,\n",
    "        fill_color='green' if is_vegan else 'red',\n",
    "        fill_opacity=0.7,\n",
    "    parse_html=False).add_to(map_toronto)\n",
    "    \n",
    "map_toronto"
   ]
  },
  {
   "cell_type": "markdown",
   "metadata": {},
   "source": [
    "## 6. Conclusion"
   ]
  },
  {
   "cell_type": "markdown",
   "metadata": {},
   "source": [
    "## 7. References"
   ]
  },
  {
   "cell_type": "markdown",
   "metadata": {},
   "source": [
    "https://bigseventravel.com/2020/02/best-vegan-restaurants-in-the-world-2020/\n",
    "\n",
    "https://wtvox.com/sustainable-living/2019-the-world-of-vegan-but-how-many-vegans-are-in-the-world/\n",
    "\n",
    "https://www.dailyhawker.ca/vegan-restaurants-in-toronto/\n",
    "\n",
    "https://coursera.org\n"
   ]
  }
 ],
 "metadata": {
  "language_info": {
   "codemirror_mode": {
    "name": "ipython",
    "version": 3
   },
   "file_extension": ".py",
   "mimetype": "text/x-python",
   "name": "python",
   "nbconvert_exporter": "python",
   "pygments_lexer": "ipython3",
   "version": "3.8.2-final"
  },
  "orig_nbformat": 2,
  "kernelspec": {
   "name": "python_defaultSpec_1595382458624",
   "display_name": "Python 3.8.2 64-bit ('venv': venv)"
  }
 },
 "nbformat": 4,
 "nbformat_minor": 2
}