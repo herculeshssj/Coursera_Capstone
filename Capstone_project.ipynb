{
    "cells": [
        {
            "cell_type": "markdown",
            "metadata": {
                "collapsed": true
            },
            "source": "# Welcome\n\n__Hello everyone!__\n\nThis is my Jupyter notebook for the Capstone project of the Data Science course.\n\nThis notebook will be used throughout the making of the project, and will contain all the tasks performed throughout the project.\n\nFor each task there will be the following:\n- introductory text;\n- brief explanation of the task;\n- Python code of the task itself with the respective result;\n- final text regarding the task performed.\n\nFeel free to comment on this notebook and the tasks performed here."
        },
        {
            "cell_type": "markdown",
            "metadata": {},
            "source": "# First task\n\nIn this first task I need to import the Python Pandas and Numpy libraries, and print a text on the screen."
        },
        {
            "cell_type": "code",
            "execution_count": 1,
            "metadata": {},
            "outputs": [
                {
                    "name": "stdout",
                    "output_type": "stream",
                    "text": "Hello Capstone Project Course!\n"
                }
            ],
            "source": "import pandas as pd\nimport numpy as np\n\nprint('Hello Capstone Project Course!')"
        },
        {
            "cell_type": "markdown",
            "metadata": {},
            "source": "Task done! :D"
        },
        {
            "cell_type": "code",
            "execution_count": null,
            "metadata": {},
            "outputs": [],
            "source": ""
        }
    ],
    "metadata": {
        "kernelspec": {
            "display_name": "Python 3.6",
            "language": "python",
            "name": "python3"
        },
        "language_info": {
            "codemirror_mode": {
                "name": "ipython",
                "version": 3
            },
            "file_extension": ".py",
            "mimetype": "text/x-python",
            "name": "python",
            "nbconvert_exporter": "python",
            "pygments_lexer": "ipython3",
            "version": "3.6.9"
        }
    },
    "nbformat": 4,
    "nbformat_minor": 1
}